{
  "nbformat": 4,
  "nbformat_minor": 0,
  "metadata": {
    "colab": {
      "name": "PythonBasics.ipynb",
      "provenance": [],
      "include_colab_link": true
    },
    "kernelspec": {
      "name": "python3",
      "display_name": "Python 3"
    }
  },
  "cells": [
    {
      "cell_type": "markdown",
      "metadata": {
        "id": "view-in-github",
        "colab_type": "text"
      },
      "source": [
        "<a href=\"https://colab.research.google.com/github/Aniruth17/PythonBasics.ipynb/blob/main/PythonBasics.ipynb\" target=\"_parent\"><img src=\"https://colab.research.google.com/assets/colab-badge.svg\" alt=\"Open In Colab\"/></a>"
      ]
    },
    {
      "cell_type": "code",
      "metadata": {
        "id": "qdyEUz9ajl2a",
        "colab": {
          "base_uri": "https://localhost:8080/"
        },
        "outputId": "31eef9c5-de07-4643-fd28-c59b9ee22570"
      },
      "source": [
        " a = 15.64321\n",
        "b = 40\n",
        "c = a // b #[decimal values are truncated]\n",
        "print(c)\n",
        "# + - * / // % - Arithmatic operators\n",
        "# += -= *= /= //= %= Augmented Arithmatic operators\n",
        "#/ % //"
      ],
      "execution_count": null,
      "outputs": [
        {
          "output_type": "stream",
          "text": [
            "0.0\n"
          ],
          "name": "stdout"
        }
      ]
    },
    {
      "cell_type": "code",
      "metadata": {
        "id": "e6CcfA0sbftj",
        "colab": {
          "base_uri": "https://localhost:8080/"
        },
        "outputId": "756b69ad-8694-4cd8-87b4-d0ba3440677b"
      },
      "source": [
        "a*=5 #[a = a+5]\n",
        "print(a)"
      ],
      "execution_count": null,
      "outputs": [
        {
          "output_type": "stream",
          "text": [
            "78.21605\n"
          ],
          "name": "stdout"
        }
      ]
    },
    {
      "cell_type": "code",
      "metadata": {
        "id": "GdOMAA5Xby03"
      },
      "source": [
        "b = 14\n",
        "b//=5\n",
        "print(b)"
      ],
      "execution_count": null,
      "outputs": []
    },
    {
      "cell_type": "code",
      "metadata": {
        "id": "gAUoyRGbcfn4"
      },
      "source": [
        "#Relational operators will yield a boolean result True / False True 1 and False 0\n",
        "#> >= < <= == [Compare two values] !=\n",
        "# = ---LHS = RHS [LHS should be an identifier / RHS can be variable, value or expression]"
      ],
      "execution_count": null,
      "outputs": []
    },
    {
      "cell_type": "code",
      "metadata": {
        "id": "xCeYshEndjeL",
        "colab": {
          "base_uri": "https://localhost:8080/"
        },
        "outputId": "32976b23-0780-4751-bb3f-21c5755347f3"
      },
      "source": [
        "a = 14.3\n",
        "b = 14.3\n",
        "c = a < b\n",
        "print(c)"
      ],
      "execution_count": null,
      "outputs": [
        {
          "output_type": "stream",
          "text": [
            "False\n"
          ],
          "name": "stdout"
        }
      ]
    },
    {
      "cell_type": "code",
      "metadata": {
        "id": "j-5m39FQ5bIM"
      },
      "source": [
        "x = int(input())\n",
        "y = int(input())\n",
        "print(x/y)"
      ],
      "execution_count": null,
      "outputs": []
    },
    {
      "cell_type": "code",
      "metadata": {
        "id": "YAyOo1P0-HuE",
        "colab": {
          "base_uri": "https://localhost:8080/"
        },
        "outputId": "a34199ee-906f-4b4b-d2e0-46ea6d02693c"
      },
      "source": [
        "a = int(input('Arthi: '))\n",
        "b = float(input('Enter a float value: '))\n",
        "c = input('Enter your name: ')"
      ],
      "execution_count": null,
      "outputs": [
        {
          "output_type": "stream",
          "text": [
            "Arthi: 15\n",
            "Enter a float value: 25.5\n",
            "Enter your name: hyr213.5\n"
          ],
          "name": "stdout"
        }
      ]
    },
    {
      "cell_type": "code",
      "metadata": {
        "id": "vF-DMEi5As9I",
        "colab": {
          "base_uri": "https://localhost:8080/"
        },
        "outputId": "d9b8d21d-5665-4303-ff28-d034cb9377e6"
      },
      "source": [
        "print(type(c))"
      ],
      "execution_count": null,
      "outputs": [
        {
          "output_type": "stream",
          "text": [
            "<class 'str'>\n"
          ],
          "name": "stdout"
        }
      ]
    },
    {
      "cell_type": "code",
      "metadata": {
        "id": "_7GSgXFW-IfC",
        "colab": {
          "base_uri": "https://localhost:8080/",
          "height": 34
        },
        "outputId": "6de60a41-acfd-4aa3-a3a4-95a65f3b2052"
      },
      "source": [
        "#Odd nos\n",
        "#n 10 - 1 3 5 7 9\n",
        "n = 10\n",
        "for i in range(2,n,2):\n",
        "  print(i,end=' ')"
      ],
      "execution_count": null,
      "outputs": [
        {
          "output_type": "stream",
          "text": [
            "2 4 6 8 "
          ],
          "name": "stdout"
        }
      ]
    },
    {
      "cell_type": "code",
      "metadata": {
        "id": "71TR_EmRPiOa",
        "colab": {
          "base_uri": "https://localhost:8080/",
          "height": 34
        },
        "outputId": "b1f03066-c538-4142-b964-c8708ed52ea7"
      },
      "source": [
        "#range(1,n,2)  ---1 part write outside the while loop\n",
        "#n --- n part 2 --- condition (n-1)\n",
        "#2 --- 2 part 3 --- increment --- should be at last\n",
        "n = 10\n",
        "i = 2\n",
        "while i < n:\n",
        "  print(i,end=' ')\n",
        "  i+=2\n",
        "\n"
      ],
      "execution_count": null,
      "outputs": [
        {
          "output_type": "stream",
          "text": [
            "2 4 6 8 10 "
          ],
          "name": "stdout"
        }
      ]
    },
    {
      "cell_type": "code",
      "metadata": {
        "id": "6yIi5wF-cGvm",
        "colab": {
          "base_uri": "https://localhost:8080/",
          "height": 34
        },
        "outputId": "9defbdd9-e3d2-4dc0-cb8f-86687cd66ad0"
      },
      "source": [
        "n= 10\n",
        "i = 1\n",
        "while i < n:\n",
        "  if i%2 != 0:\n",
        "    print(i,end = ' ')\n",
        "  i+=1"
      ],
      "execution_count": null,
      "outputs": [
        {
          "output_type": "stream",
          "text": [
            "1 3 5 7 9 "
          ],
          "name": "stdout"
        }
      ]
    },
    {
      "cell_type": "code",
      "metadata": {
        "id": "BOAiCdJ0R7q8",
        "colab": {
          "base_uri": "https://localhost:8080/",
          "height": 207
        },
        "outputId": "b6a81315-4dfb-4e3a-9507-006b14bd2261"
      },
      "source": [
        "for i in range(5):\n",
        "  print(i)\n",
        "#range(5)\n",
        "#range(0,5,1)\n",
        "i = 0\n",
        "while i < 5:\n",
        "  print(i)\n",
        "  i+=1"
      ],
      "execution_count": null,
      "outputs": [
        {
          "output_type": "stream",
          "text": [
            "0\n",
            "1\n",
            "2\n",
            "3\n",
            "4\n",
            "0\n",
            "1\n",
            "2\n",
            "3\n",
            "4\n",
            "5\n"
          ],
          "name": "stdout"
        }
      ]
    },
    {
      "cell_type": "code",
      "metadata": {
        "id": "EmjmqpEERIT7"
      },
      "source": [
        "n= 10\n",
        "\n",
        "  if i%2 != 0:\n",
        "    print(i,end = ' ')\n"
      ],
      "execution_count": null,
      "outputs": []
    },
    {
      "cell_type": "code",
      "metadata": {
        "id": "-tjmPL-89xFW"
      },
      "source": [
        "#break\n",
        "for i in range(1,11):# 1 2 3 4 5 6 7 8 9 10\n",
        "  if i%3==0:\n",
        "    break\n",
        "  else:\n",
        "    print(i,end = ' ')"
      ],
      "execution_count": null,
      "outputs": []
    },
    {
      "cell_type": "code",
      "metadata": {
        "id": "NdnoMM1_-xtn"
      },
      "source": [
        "#contiune\n",
        "for i in range(1,11):# 1 2 3 4 5 6 7 8 9 10\n",
        "  if i%3==0:\n",
        "    continue\n",
        "  else:\n",
        "    print(i,end = ' ')"
      ],
      "execution_count": null,
      "outputs": []
    },
    {
      "cell_type": "code",
      "metadata": {
        "id": "pWo2vlHpuFlS"
      },
      "source": [
        "i = 1\n",
        "n = 11\n",
        "while i<n:\n",
        "  if i%3==0:\n",
        "    i+=1\n",
        "    continue\n",
        "  else:\n",
        "    print(i,end=' ')\n",
        "  i+=1"
      ],
      "execution_count": null,
      "outputs": []
    },
    {
      "cell_type": "code",
      "metadata": {
        "id": "ltQUylXS9wel"
      },
      "source": [
        "#multiples of 3 till n\n",
        "n = int(input('Enter the n value: '))\n",
        "for i in range(n):\n",
        "  if i%3==0:\n",
        "    print(i,end = ' ')"
      ],
      "execution_count": null,
      "outputs": []
    },
    {
      "cell_type": "code",
      "metadata": {
        "id": "suXGsY-dA2Fz"
      },
      "source": [
        "#multiplication table\n",
        "End = int(input('Till waht value: '))\n",
        "Start = int(input('Enter the starting value: '))\n",
        "Table = int(input('Enter which table: '))\n",
        "for i in range(Start,End+1):\n",
        "  print(Table,' * ',i,' = ',Table * i)"
      ],
      "execution_count": null,
      "outputs": []
    },
    {
      "cell_type": "code",
      "metadata": {
        "id": "NuNUNGsvCvoZ"
      },
      "source": [
        "#Average of the numbers\n",
        "#10 15 5 6 7 = (10+15+5+6+7)/5\n",
        "'''0+10 = 10\n",
        "   10+15 = 25\n",
        "   25+5 = 30\n",
        "   30+6 = 36\n",
        "   36+7 = 43\n",
        "   43/5 = 8.6'''\n",
        "Sum = 0\n",
        "n = int(input('Enter the n value: '))\n",
        "for i in range(n):\n",
        "  x = int(input('Enter the x value: '))\n",
        "  Sum += x\n",
        "print('Average of ',n,' numbers = ',Sum/n)"
      ],
      "execution_count": null,
      "outputs": []
    },
    {
      "cell_type": "code",
      "metadata": {
        "id": "xwOiOOojFBrs"
      },
      "source": [
        "#Series\n",
        "'''1/3+3/4+5/5+7/6+.... n terms \n",
        "(1/3)+(3/4)+(5/5)+(7/6)+....up to n terms\n",
        "nr = 1  increased by 2\n",
        "dr = 3  increased by 1\n",
        "'''\n",
        "sum = 0\n",
        "nr = 1\n",
        "dr = 3\n",
        "for i in range(5):\n",
        "  print(nr,'/',dr,'+',end = ' ')\n",
        "  sum = sum + nr/dr\n",
        "  nr += 2\n",
        "  dr += 1\n",
        "print(sum)"
      ],
      "execution_count": null,
      "outputs": []
    },
    {
      "cell_type": "code",
      "metadata": {
        "id": "ZZnE_7HmdGWi"
      },
      "source": [
        "#Even Printing\n",
        "#n 10 - 1 3 5 7 9\n",
        "n = 10\n",
        "for i in range(2,n+1,2):\n",
        "  print(i,end=' ')"
      ],
      "execution_count": null,
      "outputs": []
    },
    {
      "cell_type": "code",
      "metadata": {
        "id": "YvMhCNSpdfDh"
      },
      "source": [
        "n= 10\n",
        "for i in range(2,n+1):\n",
        "  if i%2 == 0:\n",
        "    print(i,end = ' ')\n"
      ],
      "execution_count": null,
      "outputs": []
    },
    {
      "cell_type": "code",
      "metadata": {
        "id": "ZtZbBaHG-I7t"
      },
      "source": [
        "n = 9\n",
        "for i in range(1,n+1,2):\n",
        "  print(i,end=' ')"
      ],
      "execution_count": null,
      "outputs": []
    },
    {
      "cell_type": "code",
      "metadata": {
        "id": "S7HiR449-JgW"
      },
      "source": [
        "\n",
        "#Sum of first 5 even nos:\n",
        "n= 10\n",
        "sum = 0\n",
        "for i in range(2,n+1):\n",
        "  if i%2 == 0:\n",
        "    sum += i\n",
        "print('Sum of first 5 even nos = ',sum) \n"
      ],
      "execution_count": null,
      "outputs": []
    },
    {
      "cell_type": "code",
      "metadata": {
        "id": "VuX6yBHf-Jz3"
      },
      "source": [
        "#Sum 5 Even nos.\n",
        "#n 10 \n",
        "n = 10\n",
        "sum = 0\n",
        "for i in range(2,n+1,2):\n",
        "  sum+=i\n",
        "print('Sum of first 5 even nos = ',sum) "
      ],
      "execution_count": null,
      "outputs": []
    },
    {
      "cell_type": "code",
      "metadata": {
        "id": "kE33Nc3y-KSA"
      },
      "source": [
        "#Factorial of a number\n",
        "#n = 6 Product = 6*5*4*3*2*1 = 1*2*3*4*5*6\n",
        "n = int(input('Enter the n value:'))\n",
        "prod = 1\n",
        "for i in range(1,n+1):\n",
        "  prod*=i\n",
        "print('The factorial of ',n,' = ',prod)"
      ],
      "execution_count": null,
      "outputs": []
    },
    {
      "cell_type": "code",
      "metadata": {
        "id": "5dU6PKXTuXk5",
        "colab": {
          "base_uri": "https://localhost:8080/",
          "height": 51
        },
        "outputId": "323b754c-52bc-416c-a0ba-33d2d2aaabb3"
      },
      "source": [
        "#Factorial of a number\n",
        "#n = 6 Product = 6*5*4*3*2*1 = 1*2*3*4*5*6\n",
        "n = int(input('Enter the n value:'))\n",
        "prod = 1\n",
        "i = 1\n",
        "while i <= n:\n",
        "  prod*=i\n",
        "  i+=1\n",
        "print('The factorial of ',n,' = ',prod)"
      ],
      "execution_count": null,
      "outputs": [
        {
          "output_type": "stream",
          "text": [
            "Enter the n value:5\n",
            "The factorial of  5  =  120\n"
          ],
          "name": "stdout"
        }
      ]
    },
    {
      "cell_type": "code",
      "metadata": {
        "id": "qA63G3V_vL5Z",
        "colab": {
          "base_uri": "https://localhost:8080/",
          "height": 51
        },
        "outputId": "94184819-ab48-44e4-b6e8-2ebbd60102a7"
      },
      "source": [
        "#Factorial of a number\n",
        "#n = 6 Product = 6*5*4*3*2*1 \n",
        "n = int(input('Enter the n value:'))\n",
        "prod = 1\n",
        "i = n\n",
        "while i >= 1:\n",
        "  print(i,' * ',end= ' ')\n",
        "  prod*=i\n",
        "  i-=1\n",
        "print(' = ',prod)"
      ],
      "execution_count": null,
      "outputs": [
        {
          "output_type": "stream",
          "text": [
            "Enter the n value:6\n",
            "6  *  5  *  4  *  3  *  2  *  1  *   =  720\n"
          ],
          "name": "stdout"
        }
      ]
    },
    {
      "cell_type": "code",
      "metadata": {
        "id": "hayhJV9Dwb5Z",
        "colab": {
          "base_uri": "https://localhost:8080/",
          "height": 51
        },
        "outputId": "5c6ac2a9-a21f-44ab-cd55-dde774877dbf"
      },
      "source": [
        "#Factorial of a number\n",
        "#n = 6 Product = 6*5*4*3*2*1 \n",
        "n = int(input('Enter the n value:'))\n",
        "prod = 1\n",
        "for i in range(n,0,-1):#Step value is a must - since higher to lower\n",
        "  print(i,' * ',end= ' ')\n",
        "  prod*=i\n",
        "print(' = ',prod)"
      ],
      "execution_count": null,
      "outputs": [
        {
          "output_type": "stream",
          "text": [
            "Enter the n value:5\n",
            "5  *  4  *  3  *  2  *  1  *   =  120\n"
          ],
          "name": "stdout"
        }
      ]
    },
    {
      "cell_type": "code",
      "metadata": {
        "id": "pxr5we9iyekA",
        "colab": {
          "base_uri": "https://localhost:8080/",
          "height": 68
        },
        "outputId": "da523ddf-7fb5-428c-f692-f3f0d4fa2c30"
      },
      "source": [
        "#HCF - GCD\n",
        "#a   b\n",
        "#18 30\n",
        "#18 - 2 * 3 * 3\n",
        "#30 - 2 * 3 * 5\n",
        "#a > b\n",
        "#18  30\n",
        "#18 12 (30-18)\n",
        "#6  12 (18-12)\n",
        "#6  6 (12-6)\n",
        "a = int(input('Enter the a value: '))\n",
        "b = int(input('Enter the b value: '))\n",
        "a1 = a\n",
        "b1 = b\n",
        "while a!=b:\n",
        "  if a > b:\n",
        "    a = a - b\n",
        "  else:\n",
        "    b = b - a\n",
        "print('The GCD of ',a1,'and ',b1,' = ',b)"
      ],
      "execution_count": null,
      "outputs": [
        {
          "output_type": "stream",
          "text": [
            "Enter the a value: 1000\n",
            "Enter the b value: 765\n",
            "The GCD of  1000 and  765  =  5\n"
          ],
          "name": "stdout"
        }
      ]
    },
    {
      "cell_type": "code",
      "metadata": {
        "id": "sVUqFzUg4vA-",
        "colab": {
          "base_uri": "https://localhost:8080/",
          "height": 68
        },
        "outputId": "98314d41-7ef8-445e-bc87-cdff83ca4632"
      },
      "source": [
        "#Tejas Method\n",
        "a = int(input('Enter the a value: '))\n",
        "b = int(input('Enter the b value: '))\n",
        "a1 = a\n",
        "b1 = b\n",
        "while b:\n",
        "  a,b = b,a % b\n",
        "print('The GCD of ',a1,'and ',b1,' = ',a) "
      ],
      "execution_count": null,
      "outputs": [
        {
          "output_type": "stream",
          "text": [
            "Enter the a value: 18\n",
            "Enter the b value: 30\n",
            "The GCD of  18 and  30  =  6\n"
          ],
          "name": "stdout"
        }
      ]
    },
    {
      "cell_type": "code",
      "metadata": {
        "id": "vihCZLfy11F7",
        "colab": {
          "base_uri": "https://localhost:8080/",
          "height": 51
        },
        "outputId": "4b7e561a-73d9-438e-9479-b8912d43b844"
      },
      "source": [
        "#Sum of the digits - n - 1234 - Sum of n = 1+2+3+4 = 10, n 15 - Sum = 1+5 = 6\n",
        "#15\n",
        "#5 - 15 % 10 = 5\n",
        "#15 - 1 - 1%10 = 1\n",
        "n = int(input('Enter the n value: '))\n",
        "n1 = n\n",
        "sum = 0\n",
        "while n > 0:\n",
        "  rem = n % 10\n",
        "  sum = sum + rem \n",
        "  n = n // 10 # 15 // 10 = 1, 173 // 10 = 17, 1234 // 10 = 123\n",
        "print('Sum of the digits ',n1,' = ',sum)"
      ],
      "execution_count": null,
      "outputs": [
        {
          "output_type": "stream",
          "text": [
            "Enter the n value: 1253\n",
            "Sum of the digits  1253  =  161\n"
          ],
          "name": "stdout"
        }
      ]
    },
    {
      "cell_type": "code",
      "metadata": {
        "id": "9RYdnWBZ5lC5",
        "colab": {
          "base_uri": "https://localhost:8080/",
          "height": 68
        },
        "outputId": "74fb3249-9e18-465e-bf3d-6b1ac7b5f6e3"
      },
      "source": [
        "#inner loop\n",
        "for i in range(1,4): # outer loop -----   row\n",
        "  for j in range(1,5): # inner loop ----- columns\n",
        "    print(j,end=' ') # 12 times ------- outerloop * innerloop\n",
        "  print()  "
      ],
      "execution_count": null,
      "outputs": [
        {
          "output_type": "stream",
          "text": [
            "1 2 3 4 \n",
            "1 2 3 4 \n",
            "1 2 3 4 \n"
          ],
          "name": "stdout"
        }
      ]
    },
    {
      "cell_type": "code",
      "metadata": {
        "id": "h-JtSdEG9Wrg",
        "colab": {
          "base_uri": "https://localhost:8080/",
          "height": 102
        },
        "outputId": "c352548d-d096-4417-c1b1-43b3a19e7bcd"
      },
      "source": [
        "#inner loop\n",
        "n = 6\n",
        "for i in range(1,n): # outer loop -----   row \n",
        "  for j in range(1,i+1): # inner loop ----- columns\n",
        "    print(j,end=' ') # 12 times ------- outerloop * innerloop\n",
        "  print()  "
      ],
      "execution_count": null,
      "outputs": [
        {
          "output_type": "stream",
          "text": [
            "* \n",
            "* * \n",
            "* * * \n",
            "* * * * \n",
            "* * * * * \n"
          ],
          "name": "stdout"
        }
      ]
    },
    {
      "cell_type": "code",
      "metadata": {
        "id": "e6KET-L23yG2"
      },
      "source": [
        ""
      ],
      "execution_count": null,
      "outputs": []
    },
    {
      "cell_type": "code",
      "metadata": {
        "id": "4AIOm8Yx-LUM",
        "colab": {
          "base_uri": "https://localhost:8080/"
        },
        "outputId": "e594dba0-5271-4d8a-cddc-6345251687b7"
      },
      "source": [
        "#Fibonacci Series - Method 01 - Generating fro m the third term\n",
        "# n= 10 0 1 1 2 3 5 8 13 21 34\n",
        "#0 1 - 1\n",
        "#1 1 - 2\n",
        "#1 2 - 3\n",
        "a = 0\n",
        "b = 1\n",
        "n = 5\n",
        "print(a,' ',b,end = ' ')\n",
        "for i in range(n-2): #i 0 1 2\n",
        "  c = a + b\n",
        "  print(c,end = ' ')\n",
        "  a = b\n",
        "  b = c"
      ],
      "execution_count": null,
      "outputs": [
        {
          "output_type": "stream",
          "text": [
            "0   1 1 2 3 "
          ],
          "name": "stdout"
        }
      ]
    },
    {
      "cell_type": "code",
      "metadata": {
        "id": "_-ZqUoYs-Jas",
        "colab": {
          "base_uri": "https://localhost:8080/"
        },
        "outputId": "93909c17-5d57-42ab-9f9a-3eeb14a6289d"
      },
      "source": [
        "#Fibonacci Series - Method 02 - We are generating from the term 1\n",
        "n =10\n",
        "a = -1\n",
        "b = 1\n",
        "for i in range(n): \n",
        "  c = a + b\n",
        "  print(c,end = ' ')\n",
        "  a = b\n",
        "  b = c"
      ],
      "execution_count": null,
      "outputs": [
        {
          "output_type": "stream",
          "text": [
            "0 1 1 2 3 5 8 13 21 34 "
          ],
          "name": "stdout"
        }
      ]
    },
    {
      "cell_type": "code",
      "metadata": {
        "id": "4y8_4gTh367i",
        "colab": {
          "base_uri": "https://localhost:8080/"
        },
        "outputId": "805d3287-727d-4567-c2b0-2906d17a9ca2"
      },
      "source": [
        "n = int(input('Enter the ending term:'))\n",
        "m = int(input('Enter the table: '))\n",
        "for i in range(1,n+1):\n",
        "  print(i,'*',m,'=',m*i)"
      ],
      "execution_count": null,
      "outputs": [
        {
          "output_type": "stream",
          "text": [
            "Enter the ending term:5\n",
            "Enter the table: 5\n",
            "1 * 5 = 5\n",
            "2 * 5 = 10\n",
            "3 * 5 = 15\n",
            "4 * 5 = 20\n",
            "5 * 5 = 25\n"
          ],
          "name": "stdout"
        }
      ]
    },
    {
      "cell_type": "code",
      "metadata": {
        "id": "fCgVPDMH4cMv",
        "colab": {
          "base_uri": "https://localhost:8080/"
        },
        "outputId": "0447d630-8446-445e-cb41-2890da9b9042"
      },
      "source": [
        "Truehuman = 'Loves One and All'\n",
        "print(Truehuman[-9:-3])\n",
        "print(Truehuman[:10])\n",
        "print(Truehuman[10:-12])"
      ],
      "execution_count": null,
      "outputs": [
        {
          "output_type": "stream",
          "text": [
            "e and \n",
            "Loves One \n",
            "\n"
          ],
          "name": "stdout"
        }
      ]
    },
    {
      "cell_type": "code",
      "metadata": {
        "id": "_qo5M8whIuAM",
        "colab": {
          "base_uri": "https://localhost:8080/",
          "height": 204
        },
        "outputId": "1c86925f-5ade-4cab-84f8-d7a796b309a0"
      },
      "source": [
        "# n odd numbers using while\n",
        "n = 20\n",
        "i = 1\n",
        "while i <= 20:\n",
        "  print(i)\n",
        "  i+=2"
      ],
      "execution_count": null,
      "outputs": [
        {
          "output_type": "stream",
          "text": [
            "1\n",
            "3\n",
            "5\n",
            "7\n",
            "9\n",
            "11\n",
            "13\n",
            "15\n",
            "17\n",
            "19\n"
          ],
          "name": "stdout"
        }
      ]
    },
    {
      "cell_type": "code",
      "metadata": {
        "id": "SiAy11tasdKb",
        "colab": {
          "base_uri": "https://localhost:8080/",
          "height": 68
        },
        "outputId": "e9a77487-843d-4a76-f623-269e010616f2"
      },
      "source": [
        "n = 1\n",
        "while n < 4:\n",
        "  print(n,' ',n*n)\n",
        "  n+=1"
      ],
      "execution_count": null,
      "outputs": [
        {
          "output_type": "stream",
          "text": [
            "1   1\n",
            "2   4\n",
            "3   9\n"
          ],
          "name": "stdout"
        }
      ]
    },
    {
      "cell_type": "code",
      "metadata": {
        "id": "IIs2wpb-tJ4h",
        "colab": {
          "base_uri": "https://localhost:8080/",
          "height": 68
        },
        "outputId": "84957aba-4508-40d2-b16b-848d3f82c118"
      },
      "source": [
        "for n in range(1,4,1):\n",
        "  print(n,' ',n*n)"
      ],
      "execution_count": null,
      "outputs": [
        {
          "output_type": "stream",
          "text": [
            "1   1\n",
            "2   4\n",
            "3   9\n"
          ],
          "name": "stdout"
        }
      ]
    },
    {
      "cell_type": "code",
      "metadata": {
        "id": "psLvDAVniur5"
      },
      "source": [
        "#Max and Minimum of n numbers\n",
        "n = int(input('Enter the first value: '))\n",
        "Min = Max = n\n",
        "for i in range(3):\n",
        "  n = int(input('Enter a number: '))\n",
        "  if n < Min:\n",
        "    Min = n\n",
        "  if n > Max:\n",
        "    Max = n\n",
        "print('Maximum = ',Max)\n",
        "print('Minimum = ',Min)"
      ],
      "execution_count": null,
      "outputs": []
    },
    {
      "cell_type": "code",
      "metadata": {
        "id": "Uld6sTbnIVPk",
        "colab": {
          "base_uri": "https://localhost:8080/",
          "height": 138
        },
        "outputId": "0479ee77-c523-4a4a-93e9-791a0a5dede5"
      },
      "source": [
        "#Maximum of n numbers\n",
        "#n 5 ----> 10 20 -4 -5 100\n",
        "x = int(input('Enter a no: '))\n",
        "Max = x #Min = x\n",
        "for i in range(4): #n-1 n = 5\n",
        "  x = int(input('Enter a no: '))\n",
        "  if x > Max:  #x < Min\n",
        "    Max = x    #Min = x\n",
        "print('Maximum of 5 nos = ',Max)"
      ],
      "execution_count": null,
      "outputs": [
        {
          "output_type": "stream",
          "text": [
            "Enter a no: 10\n",
            "10\n",
            "Enter a no: -99\n",
            "Enter a no: 7\n",
            "Enter a no: 45\n",
            "Enter a no: 55\n",
            "Maximum of 5 nos =  55\n"
          ],
          "name": "stdout"
        }
      ]
    },
    {
      "cell_type": "code",
      "metadata": {
        "id": "aWpsLqLaLpQV",
        "colab": {
          "base_uri": "https://localhost:8080/",
          "height": 121
        },
        "outputId": "de148f33-384a-4f78-a4a9-0d765c83b732"
      },
      "source": [
        "#Converting max of n numbers to while\n",
        "x = int(input('Enter a no: '))\n",
        "Max = x \n",
        "i = 0\n",
        "while i < 4:\n",
        "  x = int(input('Enter a no: '))\n",
        "  if x > Max:  #x < Min\n",
        "    Max = x    #Min = x\n",
        "  i = i + 1\n",
        "print('Maximum of 5 nos = ',Max)"
      ],
      "execution_count": null,
      "outputs": [
        {
          "output_type": "stream",
          "text": [
            "Enter a no: 10\n",
            "Enter a no: 7\n",
            "Enter a no: 34\n",
            "Enter a no: 32\n",
            "Enter a no: 44\n",
            "Maximum of 5 nos =  44\n"
          ],
          "name": "stdout"
        }
      ]
    },
    {
      "cell_type": "code",
      "metadata": {
        "id": "iH1IA3TRk_im",
        "colab": {
          "base_uri": "https://localhost:8080/",
          "height": 34
        },
        "outputId": "7e86544b-482d-425a-d22a-0ffa4cc28cc2"
      },
      "source": [
        "#Prime numbers\n",
        "#n = 17 ----2...16   17%2 17%3.... 17%16\n",
        "n = 151\n",
        "for i in range(2,n):\n",
        "  if n%i == 0:\n",
        "    print(n,'is not a prime number')\n",
        "    break\n",
        "else:\n",
        "  print(n,' is a prime number')"
      ],
      "execution_count": null,
      "outputs": [
        {
          "output_type": "stream",
          "text": [
            "151  is a prime number\n"
          ],
          "name": "stdout"
        }
      ]
    },
    {
      "cell_type": "code",
      "metadata": {
        "id": "Aa8TgyVFQ7-G",
        "colab": {
          "base_uri": "https://localhost:8080/",
          "height": 34
        },
        "outputId": "72802eaa-b882-41bb-b2c1-414cda061522"
      },
      "source": [
        "#Prime number another logic\n",
        "import math\n",
        "n = 1236\n",
        "m = math.sqrt(n)\n",
        "for i in range(2,int(m)+1):\n",
        "  if n%i == 0:\n",
        "    print(n,'is not a prime number')\n",
        "    break\n",
        "else:\n",
        "  print(n,' is a prime number')\n"
      ],
      "execution_count": null,
      "outputs": [
        {
          "output_type": "stream",
          "text": [
            "1237  is a prime number\n"
          ],
          "name": "stdout"
        }
      ]
    },
    {
      "cell_type": "code",
      "metadata": {
        "id": "HY_DVHr3S829",
        "colab": {
          "base_uri": "https://localhost:8080/",
          "height": 190
        },
        "outputId": "f4c11b74-821c-4899-abda-80868243633b"
      },
      "source": [
        "sign = 1\n",
        "for i in range(5,51,5):\n",
        "  term = i * sign\n",
        "  print(term)\n",
        "  sign = sign * -1"
      ],
      "execution_count": null,
      "outputs": [
        {
          "output_type": "stream",
          "text": [
            "5\n",
            "-10\n",
            "15\n",
            "-20\n",
            "25\n",
            "-30\n",
            "35\n",
            "-40\n",
            "45\n",
            "-50\n"
          ],
          "name": "stdout"
        }
      ]
    },
    {
      "cell_type": "code",
      "metadata": {
        "id": "jiEz5yvXTUvY",
        "colab": {
          "base_uri": "https://localhost:8080/",
          "height": 190
        },
        "outputId": "5baabf73-5e89-40fe-f395-e49e41287e86"
      },
      "source": [
        "for i in range(-5,-51,-5):\n",
        "  print(i)"
      ],
      "execution_count": null,
      "outputs": [
        {
          "output_type": "stream",
          "text": [
            "-5\n",
            "-10\n",
            "-15\n",
            "-20\n",
            "-25\n",
            "-30\n",
            "-35\n",
            "-40\n",
            "-45\n",
            "-50\n"
          ],
          "name": "stdout"
        }
      ]
    },
    {
      "cell_type": "code",
      "metadata": {
        "id": "HjL-m1Ddl9Nr"
      },
      "source": [
        "#Series -5, 10, -15, 20, -25 upto n\n",
        "sign = -1\n",
        "for i in range(5,26,5):\n",
        "  term = i * sign\n",
        "  print(term,end = ' ')\n",
        "  sign *= -1\n"
      ],
      "execution_count": null,
      "outputs": []
    },
    {
      "cell_type": "code",
      "metadata": {
        "id": "JlGsRFU9U31N",
        "colab": {
          "base_uri": "https://localhost:8080/",
          "height": 34
        },
        "outputId": "1a36192e-f864-447c-e6b1-e4e33a373b35"
      },
      "source": [
        "#Series 5 -10 15 -20....n term\n",
        "sign = -1\n",
        "for i in range(5,26,5):\n",
        "  sign *= -1\n",
        "  print(term,end = ' ')\n",
        "  term = i * sign\n",
        "  \n"
      ],
      "execution_count": null,
      "outputs": [
        {
          "output_type": "stream",
          "text": [
            "50 5 -10 15 -20 "
          ],
          "name": "stdout"
        }
      ]
    },
    {
      "cell_type": "code",
      "metadata": {
        "id": "odwqcaCq_oFO"
      },
      "source": [
        "a = 17.25\n",
        "b = 11\n",
        "c = a % b\n",
        "print(c)"
      ],
      "execution_count": null,
      "outputs": []
    },
    {
      "cell_type": "markdown",
      "metadata": {
        "id": "kDtvopBrf68K"
      },
      "source": [
        ""
      ]
    },
    {
      "cell_type": "code",
      "metadata": {
        "id": "_HjiSXBmgCGY"
      },
      "source": [
        "a = 5\n",
        "b = 7\n",
        "print(a/b)"
      ],
      "execution_count": null,
      "outputs": []
    },
    {
      "cell_type": "code",
      "metadata": {
        "id": "YlP-6oYFgCDw"
      },
      "source": [
        "a,b = 10,20\n",
        "c,d = 30,40\n",
        "a,b = d,c\n",
        "print(a,b,c,d)\n"
      ],
      "execution_count": null,
      "outputs": []
    },
    {
      "cell_type": "code",
      "metadata": {
        "id": "aee5rQ2egSy6"
      },
      "source": [
        "a,b,c = 10,20,30\n",
        "print(a,b,c)\n",
        "a,b,c = c,b,a\n",
        "print(a,b,c)\n"
      ],
      "execution_count": null,
      "outputs": []
    },
    {
      "cell_type": "code",
      "metadata": {
        "id": "0TBz8WszgSwF"
      },
      "source": [
        "a = 5\n",
        "b = 10\n",
        "a,b,a = b+10,a+5,a+b\n",
        "print(a,b)\n"
      ],
      "execution_count": null,
      "outputs": []
    },
    {
      "cell_type": "code",
      "metadata": {
        "colab": {
          "base_uri": "https://localhost:8080/"
        },
        "id": "lNHgviMI0oJX",
        "outputId": "c80ff5eb-88d3-48df-caa2-8ff3f14196a0"
      },
      "source": [
        "a = 10\n",
        "b = 10.25\n",
        "c = 'Good afternoon'\n",
        "print(type(a),id(a),a)\n",
        "print(type(b),id(b),b)\n",
        "print(type(c),id(c),c)"
      ],
      "execution_count": null,
      "outputs": [
        {
          "output_type": "stream",
          "text": [
            "<class 'int'> 10914784 10\n",
            "<class 'float'> 140254631996176 10.25\n",
            "<class 'str'> 140254627804528 Good afternoon\n"
          ],
          "name": "stdout"
        }
      ]
    },
    {
      "cell_type": "code",
      "metadata": {
        "colab": {
          "base_uri": "https://localhost:8080/",
          "height": 273
        },
        "id": "96uiq8Ix2tqs",
        "outputId": "ab4637d0-5c9e-4e4f-a385-1c1db0fa3a08"
      },
      "source": [
        "a = 'abcdef'\n",
        "#a b c d e f\n",
        "#0 1 2 3 4 5\n",
        "print(a,id(a))\n",
        "print(a[0],id(a[0]))\n",
        "print(a[-1],a[5],a[len(a)-1])\n",
        "a[3] = 'k'\n",
        "print(a)"
      ],
      "execution_count": null,
      "outputs": [
        {
          "output_type": "stream",
          "text": [
            "abcdef 140254628216648\n",
            "a 140255201977096\n",
            "f f f\n"
          ],
          "name": "stdout"
        },
        {
          "output_type": "error",
          "ename": "TypeError",
          "evalue": "ignored",
          "traceback": [
            "\u001b[0;31m---------------------------------------------------------------------------\u001b[0m",
            "\u001b[0;31mTypeError\u001b[0m                                 Traceback (most recent call last)",
            "\u001b[0;32m<ipython-input-11-87d992d13636>\u001b[0m in \u001b[0;36m<module>\u001b[0;34m()\u001b[0m\n\u001b[1;32m      5\u001b[0m \u001b[0mprint\u001b[0m\u001b[0;34m(\u001b[0m\u001b[0ma\u001b[0m\u001b[0;34m[\u001b[0m\u001b[0;36m0\u001b[0m\u001b[0;34m]\u001b[0m\u001b[0;34m,\u001b[0m\u001b[0mid\u001b[0m\u001b[0;34m(\u001b[0m\u001b[0ma\u001b[0m\u001b[0;34m[\u001b[0m\u001b[0;36m0\u001b[0m\u001b[0;34m]\u001b[0m\u001b[0;34m)\u001b[0m\u001b[0;34m)\u001b[0m\u001b[0;34m\u001b[0m\u001b[0;34m\u001b[0m\u001b[0m\n\u001b[1;32m      6\u001b[0m \u001b[0mprint\u001b[0m\u001b[0;34m(\u001b[0m\u001b[0ma\u001b[0m\u001b[0;34m[\u001b[0m\u001b[0;34m-\u001b[0m\u001b[0;36m1\u001b[0m\u001b[0;34m]\u001b[0m\u001b[0;34m,\u001b[0m\u001b[0ma\u001b[0m\u001b[0;34m[\u001b[0m\u001b[0;36m5\u001b[0m\u001b[0;34m]\u001b[0m\u001b[0;34m,\u001b[0m\u001b[0ma\u001b[0m\u001b[0;34m[\u001b[0m\u001b[0mlen\u001b[0m\u001b[0;34m(\u001b[0m\u001b[0ma\u001b[0m\u001b[0;34m)\u001b[0m\u001b[0;34m-\u001b[0m\u001b[0;36m1\u001b[0m\u001b[0;34m]\u001b[0m\u001b[0;34m)\u001b[0m\u001b[0;34m\u001b[0m\u001b[0;34m\u001b[0m\u001b[0m\n\u001b[0;32m----> 7\u001b[0;31m \u001b[0ma\u001b[0m\u001b[0;34m[\u001b[0m\u001b[0;36m3\u001b[0m\u001b[0;34m]\u001b[0m \u001b[0;34m=\u001b[0m \u001b[0;34m'k'\u001b[0m\u001b[0;34m\u001b[0m\u001b[0;34m\u001b[0m\u001b[0m\n\u001b[0m\u001b[1;32m      8\u001b[0m \u001b[0mprint\u001b[0m\u001b[0;34m(\u001b[0m\u001b[0ma\u001b[0m\u001b[0;34m)\u001b[0m\u001b[0;34m\u001b[0m\u001b[0;34m\u001b[0m\u001b[0m\n",
            "\u001b[0;31mTypeError\u001b[0m: 'str' object does not support item assignment"
          ]
        }
      ]
    },
    {
      "cell_type": "code",
      "metadata": {
        "colab": {
          "base_uri": "https://localhost:8080/"
        },
        "id": "qave7PMC5L-L",
        "outputId": "1a3a2949-7cd8-4849-9e06-0442e1ba79a3"
      },
      "source": [
        "s1 = 10\n",
        "s2 = int(input())\n",
        "print(s1 is s2)\n",
        "print(s1 == s2)"
      ],
      "execution_count": null,
      "outputs": [
        {
          "output_type": "stream",
          "text": [
            "10\n",
            "True\n",
            "True\n"
          ],
          "name": "stdout"
        }
      ]
    },
    {
      "cell_type": "code",
      "metadata": {
        "id": "moEdFtYo18JY"
      },
      "source": [
        "import statistics\n",
        "x = [1,2,3,4,5,6,7,89,10]\n",
        "print(statistics.mean(x))\n",
        "y = statistics.median([1,2,3,4,5,6,7,8,9])\n",
        "print(y)\n",
        "print(statistics.mode([1,2,2,3,3,3,4,4,4,4]))\n",
        "      "
      ],
      "execution_count": null,
      "outputs": []
    },
    {
      "cell_type": "code",
      "metadata": {
        "id": "xo3-g_ts-dOA"
      },
      "source": [
        ""
      ],
      "execution_count": null,
      "outputs": []
    },
    {
      "cell_type": "code",
      "metadata": {
        "id": "H7gfQitRg4vJ",
        "colab": {
          "base_uri": "https://localhost:8080/"
        },
        "outputId": "854149b4-4a98-4ae4-9b44-659b101801f7"
      },
      "source": [
        "a = True\n",
        "b = False\n",
        "c = not(a and b)\n",
        "if c:\n",
        "  print('True value is printed')\n",
        "else:\n",
        "  print('False value is printed')\n"
      ],
      "execution_count": null,
      "outputs": [
        {
          "output_type": "stream",
          "text": [
            "True value is printed\n"
          ],
          "name": "stdout"
        }
      ]
    },
    {
      "cell_type": "code",
      "metadata": {
        "id": "wj1wT8Hthm75"
      },
      "source": [
        "c = ((True and True) or (not False))\n",
        "print(c)"
      ],
      "execution_count": null,
      "outputs": []
    },
    {
      "cell_type": "code",
      "metadata": {
        "id": "4fN-lR6lh0SQ",
        "colab": {
          "base_uri": "https://localhost:8080/"
        },
        "outputId": "7b9f65b1-a8da-45e5-fa70-1a94cf79d79b"
      },
      "source": [
        "c = ((5 + 2) - ((3 ** 2) / 3))\n",
        "# c = ((5+2)-(9/3))\n",
        "# c = ((5+2)-3.0)\n",
        "# c = (7 - 3.0)\n",
        "#**, * /,+ -\n",
        "\n",
        "print(c)"
      ],
      "execution_count": null,
      "outputs": [
        {
          "output_type": "stream",
          "text": [
            "4.0\n"
          ],
          "name": "stdout"
        }
      ]
    },
    {
      "cell_type": "code",
      "metadata": {
        "id": "UPrgaxweijHq",
        "colab": {
          "base_uri": "https://localhost:8080/"
        },
        "outputId": "6096432f-4a68-4971-c85f-e321f9a28720"
      },
      "source": [
        "c = 5//3\n",
        "print(c)"
      ],
      "execution_count": null,
      "outputs": [
        {
          "output_type": "stream",
          "text": [
            "1.6666666666666667\n"
          ],
          "name": "stdout"
        }
      ]
    },
    {
      "cell_type": "code",
      "metadata": {
        "id": "6KZLwT2_ip6g"
      },
      "source": [
        "c = (20 + -10) < 12\n",
        "print(c)"
      ],
      "execution_count": null,
      "outputs": []
    },
    {
      "cell_type": "code",
      "metadata": {
        "id": "1-tZKe7BjPGM"
      },
      "source": [
        "num3 = 24\n",
        "print(num3 <= 24)\n",
        "print(not(num3))"
      ],
      "execution_count": null,
      "outputs": []
    },
    {
      "cell_type": "code",
      "metadata": {
        "id": "ROEui02hjhSW",
        "colab": {
          "base_uri": "https://localhost:8080/"
        },
        "outputId": "445debc8-f7de-446a-c83a-59bc9a075ead"
      },
      "source": [
        "c = ((2 == 1) == 2)\n",
        "print(c)"
      ],
      "execution_count": null,
      "outputs": [
        {
          "output_type": "stream",
          "text": [
            "False\n"
          ],
          "name": "stdout"
        }
      ]
    },
    {
      "cell_type": "code",
      "metadata": {
        "id": "wCMwcIqilfOC"
      },
      "source": [
        ""
      ],
      "execution_count": null,
      "outputs": []
    },
    {
      "cell_type": "code",
      "metadata": {
        "id": "9DMsO0hTju26"
      },
      "source": [
        "c = 2+3 == 5 == len(\"Arthi\")\n",
        "print(c)"
      ],
      "execution_count": null,
      "outputs": []
    },
    {
      "cell_type": "code",
      "metadata": {
        "id": "ZGzuhKIaJgrN"
      },
      "source": [
        "c = len(' ')\n",
        "print(c)"
      ],
      "execution_count": null,
      "outputs": []
    },
    {
      "cell_type": "code",
      "metadata": {
        "id": "RJeYCS08kBC9",
        "colab": {
          "base_uri": "https://localhost:8080/",
          "height": 34
        },
        "outputId": "d844413b-218b-4224-8a3d-5e2540c5e212"
      },
      "source": [
        "String = \"All the best\"\n",
        "print(len(String),end='')\n",
        "print(String[-1],end='')\n",
        "print(String[-3],end='')\n",
        "print(String[3],end='')\n",
        "print(String)"
      ],
      "execution_count": null,
      "outputs": [
        {
          "output_type": "stream",
          "text": [
            "12te All the best\n"
          ],
          "name": "stdout"
        }
      ]
    },
    {
      "cell_type": "code",
      "metadata": {
        "id": "vk5G-ANfHWAk",
        "colab": {
          "base_uri": "https://localhost:8080/"
        },
        "outputId": "a6bd47f1-9e33-40ea-9e27-617316769e0a"
      },
      "source": [
        "x = -16\n",
        "if x==0:\n",
        "  print(\"Zero\",end='')\n",
        "elif x==3:\n",
        "  print(\"Three\")\n",
        "else:\n",
        "  pass\n",
        "print(\"Finish\")"
      ],
      "execution_count": null,
      "outputs": [
        {
          "output_type": "stream",
          "text": [
            "Finish\n"
          ],
          "name": "stdout"
        }
      ]
    },
    {
      "cell_type": "code",
      "metadata": {
        "id": "61K2nTzsktZ1",
        "colab": {
          "base_uri": "https://localhost:8080/"
        },
        "outputId": "8570d4b8-d5a7-4675-aba1-d0f952a27d88"
      },
      "source": [
        "a = False\n",
        "b = True\n",
        "c = False\n",
        "print(not a and b) #(1 and 1)\n",
        "#not and[*] or[+]\n",
        "#+ - 1+1 = 1\n",
        "#* 1.1 = 1"
      ],
      "execution_count": null,
      "outputs": [
        {
          "output_type": "stream",
          "text": [
            "True\n"
          ],
          "name": "stdout"
        }
      ]
    },
    {
      "cell_type": "code",
      "metadata": {
        "id": "ha9pyCD-lBK3"
      },
      "source": [
        "a = False\n",
        "b = True\n",
        "c = False\n",
        "print((a and b)or not c)"
      ],
      "execution_count": null,
      "outputs": []
    },
    {
      "cell_type": "code",
      "metadata": {
        "id": "67yOcdablLC8"
      },
      "source": [
        "a = False\n",
        "b = True\n",
        "c = False\n",
        "d = not((not b  or not a)and c) or a\n",
        "print(d)"
      ],
      "execution_count": null,
      "outputs": []
    },
    {
      "cell_type": "code",
      "metadata": {
        "id": "IidpJVTDlnVu"
      },
      "source": [
        "a,b,c = 2,3,6\n",
        "d = a + b * c / b\n",
        "print(d)"
      ],
      "execution_count": null,
      "outputs": []
    },
    {
      "cell_type": "code",
      "metadata": {
        "id": "HfjV2m3Yl0va",
        "colab": {
          "base_uri": "https://localhost:8080/",
          "height": 34
        },
        "outputId": "cf0e9102-2117-481f-b34d-3cae1c66dda8"
      },
      "source": [
        "c = type(len('arthi'))\n",
        "print(c)"
      ],
      "execution_count": null,
      "outputs": [
        {
          "output_type": "stream",
          "text": [
            "<class 'int'>\n"
          ],
          "name": "stdout"
        }
      ]
    },
    {
      "cell_type": "code",
      "metadata": {
        "id": "b4z8YT8Fl-iq",
        "colab": {
          "base_uri": "https://localhost:8080/",
          "height": 34
        },
        "outputId": "2705fcd0-772a-4137-b945-bc72bfbccba0"
      },
      "source": [
        "c = type('a')\n",
        "print(c)"
      ],
      "execution_count": null,
      "outputs": [
        {
          "output_type": "stream",
          "text": [
            "<class 'str'>\n"
          ],
          "name": "stdout"
        }
      ]
    },
    {
      "cell_type": "code",
      "metadata": {
        "id": "LBnsVUnT2a1J"
      },
      "source": [
        "number = 250\n",
        "while number <=1000:\n",
        "  if number>=250:\n",
        "    print(number)\n",
        "    number = number+100\n",
        "  else:\n",
        "    print(number*2)\n",
        "    number = number+50"
      ],
      "execution_count": null,
      "outputs": []
    },
    {
      "cell_type": "code",
      "metadata": {
        "id": "UDKv81JV2cSK"
      },
      "source": [
        "_a = 10\n",
        "print(_a)"
      ],
      "execution_count": null,
      "outputs": []
    },
    {
      "cell_type": "code",
      "metadata": {
        "id": "Z2MjRAKI2c7Z"
      },
      "source": [
        "Roll_no = 10\n",
        "print(Roll_no)"
      ],
      "execution_count": null,
      "outputs": []
    },
    {
      "cell_type": "code",
      "metadata": {
        "id": "vrX5pAgp2buy",
        "colab": {
          "base_uri": "https://localhost:8080/",
          "height": 34
        },
        "outputId": "887a0abf-e2f0-48c0-d5ef-3de573b59c8b"
      },
      "source": [
        "a = 10\n",
        "b = 20\n",
        "c = 30\n",
        "d,e,f = a+2,b+4,c+6\n",
        "print('a,b,c: ',a,b,c,'d,e,f:',d,e,f)"
      ],
      "execution_count": null,
      "outputs": [
        {
          "output_type": "stream",
          "text": [
            "a,b,c:  10 20 30 d,e,f: 12 24 36\n"
          ],
          "name": "stdout"
        }
      ]
    },
    {
      "cell_type": "code",
      "metadata": {
        "id": "ha3F3o3X2bkZ"
      },
      "source": [
        "a = True\n",
        "b = False\n",
        "c = True\n",
        "d = True\n",
        "e = a and b\n",
        "print('E value is: ',e)\n",
        "f = a and b or c\n",
        "print('F value is: ',f)\n",
        "g = a and b or not c\n",
        "print('G value is: ',g)\n",
        "h = a and (b or not c)\n",
        "print('H value is: ',h)\n",
        "i = not a and (b or not c)\n",
        "print('I value is: ',i)"
      ],
      "execution_count": null,
      "outputs": []
    },
    {
      "cell_type": "code",
      "metadata": {
        "id": "7owk0RqF2aSI",
        "colab": {
          "base_uri": "https://localhost:8080/",
          "height": 34
        },
        "outputId": "5f716156-5d0c-481c-e472-6b84ac90e973"
      },
      "source": [
        "a = 12 != 13.5 \n",
        "print(a)"
      ],
      "execution_count": null,
      "outputs": [
        {
          "output_type": "stream",
          "text": [
            "True\n"
          ],
          "name": "stdout"
        }
      ]
    },
    {
      "cell_type": "code",
      "metadata": {
        "id": "KcUjssxA2aDC",
        "colab": {
          "base_uri": "https://localhost:8080/",
          "height": 34
        },
        "outputId": "76cb3dd0-b556-43d2-99b7-42e7b1222f7c"
      },
      "source": [
        "a = 12 + 3 ** (2 - 3 / 2)\n",
        "print(a)"
      ],
      "execution_count": null,
      "outputs": [
        {
          "output_type": "stream",
          "text": [
            "13.732050807568877\n"
          ],
          "name": "stdout"
        }
      ]
    },
    {
      "cell_type": "code",
      "metadata": {
        "id": "Ma58tTQk2ZvH",
        "colab": {
          "base_uri": "https://localhost:8080/",
          "height": 34
        },
        "outputId": "d1c570f1-0df2-407d-b68f-b0d576cead95"
      },
      "source": [
        "a = (12 + 3)**(2 + 5) - 10\n",
        "print(a)"
      ],
      "execution_count": null,
      "outputs": [
        {
          "output_type": "stream",
          "text": [
            "170859365\n"
          ],
          "name": "stdout"
        }
      ]
    },
    {
      "cell_type": "code",
      "metadata": {
        "id": "dseQuk5uCsyR"
      },
      "source": [
        "a = (12+3)**(2+2)-10\n",
        "print(a)"
      ],
      "execution_count": null,
      "outputs": []
    },
    {
      "cell_type": "code",
      "metadata": {
        "id": "RoNa9mOFDMvL",
        "colab": {
          "base_uri": "https://localhost:8080/",
          "height": 51
        },
        "outputId": "9a3c7532-0ec8-4df7-c8b6-ed97c993c8a8"
      },
      "source": [
        "a = 1110\n",
        "if a != 10:\n",
        "  print('One')\n",
        "elif a <= 10:\n",
        "  print('Two')\n",
        "else:\n",
        "  print('Three')\n",
        "print('All the best')"
      ],
      "execution_count": null,
      "outputs": [
        {
          "output_type": "stream",
          "text": [
            "One\n",
            "All the best\n"
          ],
          "name": "stdout"
        }
      ]
    },
    {
      "cell_type": "code",
      "metadata": {
        "id": "dsvLWqDeD18f",
        "colab": {
          "base_uri": "https://localhost:8080/",
          "height": 51
        },
        "outputId": "9f9f9433-b213-4b0e-cd55-981facf491d8"
      },
      "source": [
        "a = 10.0\n",
        "if a == 10:\n",
        "  print('One')\n",
        "elif a < 10:\n",
        "  print('Two')\n",
        "else:\n",
        "  print('Three')\n",
        "print('All the best')"
      ],
      "execution_count": null,
      "outputs": [
        {
          "output_type": "stream",
          "text": [
            "One\n",
            "All the best\n"
          ],
          "name": "stdout"
        }
      ]
    },
    {
      "cell_type": "code",
      "metadata": {
        "id": "CTSuXQ4VEuUS",
        "colab": {
          "base_uri": "https://localhost:8080/",
          "height": 34
        },
        "outputId": "32557192-ed3e-478f-8ab8-b55513a76661"
      },
      "source": [
        "a = 0.3\n",
        "if a == 0.1+0.1+0.1:\n",
        "  print(\"True\")\n",
        "else:\n",
        "  print(\"False\")"
      ],
      "execution_count": null,
      "outputs": [
        {
          "output_type": "stream",
          "text": [
            "False\n"
          ],
          "name": "stdout"
        }
      ]
    },
    {
      "cell_type": "code",
      "metadata": {
        "id": "AKuOR_1ZY0m6",
        "colab": {
          "base_uri": "https://localhost:8080/",
          "height": 263
        },
        "outputId": "9a01051b-2e7c-4b4f-dfcd-56eca7d5b9da"
      },
      "source": [
        "#Basic Input Statement \n",
        "a = int(input('Enter the a value: '))\n",
        "b = float(input('Enter the b value: '))\n",
        "c = input('Enter a character / string: ')\n",
        "#Basic Print Statement\n",
        "print(a,b,c)\n",
        "print(a)\n",
        "print(b)\n",
        "print(c)\n",
        "print('a','b','c')\n",
        "print('Learning Output statement')\n",
        "print(\"Value of a = \",a)\n",
        "print(\"Vlaue of b = \",b)\n",
        "print('Value of c = ',c)\n",
        "print(a,' is the value of a')\n",
        "print(b,' is the value of b')"
      ],
      "execution_count": null,
      "outputs": [
        {
          "output_type": "stream",
          "text": [
            "Enter the a value: 100\n",
            "Enter the b value: 76.54\n",
            "Enter a character / string: Good Morning\n",
            "100 76.54 Good Morning\n",
            "100\n",
            "76.54\n",
            "Good Morning\n",
            "a b c\n",
            "Learning Output statement\n",
            "Value of a =  100\n",
            "Vlaue of b =  76.54\n",
            "Value of c =  Good Morning\n",
            "100  is the value of a\n",
            "76.54  is the value of b\n"
          ],
          "name": "stdout"
        }
      ]
    },
    {
      "cell_type": "code",
      "metadata": {
        "id": "Rvx5ZFFuhTzZ",
        "colab": {
          "base_uri": "https://localhost:8080/",
          "height": 52
        },
        "outputId": "5fb9380f-1c60-417b-a5d1-c6072b333e18"
      },
      "source": [
        "name = input('Enter your name: ')\n",
        "print('My name: ',name)"
      ],
      "execution_count": null,
      "outputs": [
        {
          "output_type": "stream",
          "text": [
            "Enter your name: James Bond 007\n",
            "My name:  James Bond 007\n"
          ],
          "name": "stdout"
        }
      ]
    },
    {
      "cell_type": "code",
      "metadata": {
        "id": "QIuRoeFtY1OE",
        "colab": {
          "base_uri": "https://localhost:8080/",
          "height": 70
        },
        "outputId": "6ad18075-15c6-4b4e-8a47-4fc3f8fd1165"
      },
      "source": [
        "name1 = input('Enter your name: ')\n",
        "name2 = input('Enter your name: ')\n",
        "print(name1+name2)"
      ],
      "execution_count": null,
      "outputs": [
        {
          "output_type": "stream",
          "text": [
            "Enter your name: 34\n",
            "Enter your name: 78\n",
            "3478\n"
          ],
          "name": "stdout"
        }
      ]
    },
    {
      "cell_type": "code",
      "metadata": {
        "id": "6iyyZqLZY1ok",
        "colab": {
          "base_uri": "https://localhost:8080/",
          "height": 68
        },
        "outputId": "e1a9599a-3f09-42e0-fe73-7f4f2a11350c"
      },
      "source": [
        "name1 = int(input('Enter the name: '))\n",
        "name2 = int(input('Enter the name:'))\n",
        "print(name1+name2)"
      ],
      "execution_count": null,
      "outputs": [
        {
          "output_type": "stream",
          "text": [
            "Enter the name: 34\n",
            "Enter the name:78\n",
            "112\n"
          ],
          "name": "stdout"
        }
      ]
    },
    {
      "cell_type": "code",
      "metadata": {
        "id": "SJDFNyMpY2C1"
      },
      "source": [
        "#if statement - slide 02\n",
        "x = 50\n",
        "if x < 10:\n",
        "  print('Smaller')\n",
        "if x > 20:\n",
        "  print('Bigger')\n",
        "print('Finis')"
      ],
      "execution_count": null,
      "outputs": []
    },
    {
      "cell_type": "code",
      "metadata": {
        "id": "YAW47jixsxfF",
        "colab": {
          "base_uri": "https://localhost:8080/",
          "height": 119
        },
        "outputId": "b6bb24aa-8e4e-4256-88db-36d5e7ea683f"
      },
      "source": [
        "#if statement - slide 04\n",
        "x = 5\n",
        "if x == 5:\n",
        "  print('Equal 5')\n",
        "if x > 4:\n",
        "  print('Greater than 4')\n",
        "if x >= 5:\n",
        "  print('Greater than or Equal to 5')\n",
        "if x < 6:\n",
        "  print('Less than 6')\n",
        "if x <= 5:\n",
        "  print('Less than or eqaul to 5')\n",
        "if x != 6:\n",
        "  print('Not equal 6')"
      ],
      "execution_count": null,
      "outputs": [
        {
          "output_type": "stream",
          "text": [
            "Equal 5\n",
            "Greater than 4\n",
            "Greater than or Equal to 5\n",
            "Less than 6\n",
            "Less than or eqaul to 5\n",
            "Not equal 6\n"
          ],
          "name": "stdout"
        }
      ]
    },
    {
      "cell_type": "code",
      "metadata": {
        "id": "hbnC3t_3Y2Ys"
      },
      "source": [
        "#if statement - slide 05 - One way decisions\n",
        "x = 6\n",
        "print('Before 5')\n",
        "if  x == 5 :\n",
        "  print('Is 5')\n",
        "  print('Is Still 5')\n",
        "  print('Third 5')\n",
        "print('Afterwards 5')\n",
        "print('Before 6')\n",
        "if x == 6 :\n",
        "  print('Is 6')\n",
        "  print('Is Still 6')\n",
        "  print('Third 6')\n",
        "print('Afterwards 6')\n"
      ],
      "execution_count": null,
      "outputs": []
    },
    {
      "cell_type": "code",
      "metadata": {
        "id": "myvjvgXsT9MM",
        "colab": {
          "base_uri": "https://localhost:8080/",
          "height": 34
        },
        "outputId": "ee039d77-4801-4aec-df11-7668a59ff4c1"
      },
      "source": [
        "x,y = 20,60\n",
        "y,x,y = x,y-10,x+10\n",
        "print(x,y)\n"
      ],
      "execution_count": null,
      "outputs": [
        {
          "output_type": "stream",
          "text": [
            "50 30\n"
          ],
          "name": "stdout"
        }
      ]
    },
    {
      "cell_type": "code",
      "metadata": {
        "id": "nuytsPZ_UMBN",
        "colab": {
          "base_uri": "https://localhost:8080/",
          "height": 34
        },
        "outputId": "b912b7b1-0478-43bb-df03-e86bc9f1301d"
      },
      "source": [
        "a,b = 12,13\n",
        "c,b = a*2,a/2\n",
        "print(a,b,c)\n"
      ],
      "execution_count": null,
      "outputs": [
        {
          "output_type": "stream",
          "text": [
            "12 6.0 24\n"
          ],
          "name": "stdout"
        }
      ]
    },
    {
      "cell_type": "code",
      "metadata": {
        "id": "e-dXvK3DY2zX",
        "colab": {
          "base_uri": "https://localhost:8080/",
          "height": 51
        },
        "outputId": "4161bb41-1088-4fb7-a794-1f630f893078"
      },
      "source": [
        "#Nested if - slide 06\n",
        "x = 142\n",
        "if x > 1:\n",
        "  print('More than one')\n",
        "  if x < 100 : \n",
        "    print('Less than 100')\n",
        "print('All done')"
      ],
      "execution_count": null,
      "outputs": [
        {
          "output_type": "stream",
          "text": [
            "More than one\n",
            "All done\n"
          ],
          "name": "stdout"
        }
      ]
    },
    {
      "cell_type": "code",
      "metadata": {
        "id": "dYT17v2sY3X0",
        "colab": {
          "base_uri": "https://localhost:8080/",
          "height": 51
        },
        "outputId": "aae2c780-1da4-4133-a116-0abfc9a909dc"
      },
      "source": [
        "#if statement - two way using else - slide 08\n",
        "x = 2\n",
        "if x > 2:\n",
        "  print('Bigger')\n",
        "else:\n",
        "  print('Smaller')\n",
        "print('All done')"
      ],
      "execution_count": null,
      "outputs": [
        {
          "output_type": "stream",
          "text": [
            "Smaller\n",
            "All done\n"
          ],
          "name": "stdout"
        }
      ]
    },
    {
      "cell_type": "code",
      "metadata": {
        "id": "2Mhas7fgw8rg",
        "colab": {
          "base_uri": "https://localhost:8080/",
          "height": 51
        },
        "outputId": "85f885f8-a225-4fa8-972f-8340aa725ac0"
      },
      "source": [
        "#if statement - multiway - slide 10\n",
        "x = 0\n",
        "if x < 2 :\n",
        "  print('Small')\n",
        "elif x < 10 :\n",
        "  print('Medium')\n",
        "else :\n",
        "  print('LARGE')\n",
        "print('All done')"
      ],
      "execution_count": null,
      "outputs": [
        {
          "output_type": "stream",
          "text": [
            "Small\n",
            "All done\n"
          ],
          "name": "stdout"
        }
      ]
    },
    {
      "cell_type": "code",
      "metadata": {
        "id": "89bXB-OTxfVU",
        "colab": {
          "base_uri": "https://localhost:8080/",
          "height": 51
        },
        "outputId": "8acfa3cc-2d5f-4b5f-fd3d-344ae0a9abc0"
      },
      "source": [
        "#if statement - multiway - slide 11\n",
        "x = 5\n",
        "if x < 2 :\n",
        "  print('Small')\n",
        "elif x < 10 :\n",
        "  print('Medium')\n",
        "else :\n",
        "  print('LARGE')\n",
        "print('All done')"
      ],
      "execution_count": null,
      "outputs": [
        {
          "output_type": "stream",
          "text": [
            "Medium\n",
            "All done\n"
          ],
          "name": "stdout"
        }
      ]
    },
    {
      "cell_type": "code",
      "metadata": {
        "id": "nq_uox7cxt8M",
        "colab": {
          "base_uri": "https://localhost:8080/",
          "height": 51
        },
        "outputId": "a24eb573-2444-4a5e-88bf-057ab48d0025"
      },
      "source": [
        "#if statement - multiway - slide 12\n",
        "x = 20\n",
        "if x < 2 :\n",
        "  print('Small')\n",
        "elif x < 10 :\n",
        "  print('Medium')\n",
        "else :\n",
        "  print('LARGE')\n",
        "print('All done')"
      ],
      "execution_count": null,
      "outputs": [
        {
          "output_type": "stream",
          "text": [
            "LARGE\n",
            "All done\n"
          ],
          "name": "stdout"
        }
      ]
    },
    {
      "cell_type": "code",
      "metadata": {
        "id": "MhiqXiHLx0lj",
        "colab": {
          "base_uri": "https://localhost:8080/",
          "height": 34
        },
        "outputId": "f8e1ed7c-bae4-488c-c7cb-f77257f3d81d"
      },
      "source": [
        "# if statement - Multiway Puzzle 01 - slide 14\n",
        "x = 500\n",
        "if x < 2:\n",
        "  print('Below 2')\n",
        "elif x >= 2: \n",
        "  print('Two or more')\n",
        "else:\n",
        "  print('Something else') #will not get printed"
      ],
      "execution_count": null,
      "outputs": [
        {
          "output_type": "stream",
          "text": [
            "Two or more\n"
          ],
          "name": "stdout"
        }
      ]
    },
    {
      "cell_type": "code",
      "metadata": {
        "id": "FVb34taGy4M3",
        "colab": {
          "base_uri": "https://localhost:8080/",
          "height": 34
        },
        "outputId": "4dc6159c-8f54-42a9-bcf2-a0dbd6e51226"
      },
      "source": [
        "# if statement - Multiway Puzzle 02 - slide 14\n",
        "x = 9\n",
        "if x < 2:\n",
        "  print('Below 2')\n",
        "elif x < 20:\n",
        "  print('Below 10')\n",
        "elif x < 10: \n",
        "  print('Below 20') #will not get printed\n",
        "else:\n",
        "  print('Something else')"
      ],
      "execution_count": null,
      "outputs": [
        {
          "output_type": "stream",
          "text": [
            "Below 10\n"
          ],
          "name": "stdout"
        }
      ]
    },
    {
      "cell_type": "code",
      "metadata": {
        "id": "E1noutG-Ac3t",
        "colab": {
          "base_uri": "https://localhost:8080/",
          "height": 102
        },
        "outputId": "8e2f45c5-f6b7-4896-f610-59f768376dac"
      },
      "source": [
        "n = 5\n",
        "for i in range(n,0,-1):\n",
        "  for space in range(n-i):\n",
        "    print(end = ' ')\n",
        "  for j in range(i,0,-1):\n",
        "    print(j,end = '')\n",
        "  print()"
      ],
      "execution_count": null,
      "outputs": [
        {
          "output_type": "stream",
          "text": [
            "54321\n",
            " 4321\n",
            "  321\n",
            "   21\n",
            "    1\n"
          ],
          "name": "stdout"
        }
      ]
    },
    {
      "cell_type": "code",
      "metadata": {
        "id": "DEilK46I1xUn",
        "colab": {
          "base_uri": "https://localhost:8080/",
          "height": 34
        },
        "outputId": "5484bdfc-fd6c-44fc-cecc-c15135e44123"
      },
      "source": [
        "for i in range(5):\n",
        "  print(i,end = ' ')"
      ],
      "execution_count": null,
      "outputs": [
        {
          "output_type": "stream",
          "text": [
            "0 1 2 3 4 "
          ],
          "name": "stdout"
        }
      ]
    },
    {
      "cell_type": "code",
      "metadata": {
        "id": "NomT9iz07jB9",
        "colab": {
          "base_uri": "https://localhost:8080/",
          "height": 34
        },
        "outputId": "bf387efa-088d-47f2-bb62-305b4a0bab9c"
      },
      "source": [
        "for i in range(1,5,2):\n",
        "  print(i,end = ' ')"
      ],
      "execution_count": null,
      "outputs": [
        {
          "output_type": "stream",
          "text": [
            "1 3 "
          ],
          "name": "stdout"
        }
      ]
    },
    {
      "cell_type": "code",
      "metadata": {
        "id": "Jc-NJXlb7hiE",
        "colab": {
          "base_uri": "https://localhost:8080/",
          "height": 68
        },
        "outputId": "ae17d802-7b7d-49fe-8d66-5bedb16f14e2"
      },
      "source": [
        "for i in [1,3,5]:\n",
        "  print(i,'   ',i*i,'  ',i*i*i)\n",
        "  "
      ],
      "execution_count": null,
      "outputs": [
        {
          "output_type": "stream",
          "text": [
            "1     1    1\n",
            "3     9    27\n",
            "5     25    125\n"
          ],
          "name": "stdout"
        }
      ]
    },
    {
      "cell_type": "code",
      "metadata": {
        "id": "G07nGBdN8cZX",
        "colab": {
          "base_uri": "https://localhost:8080/",
          "height": 68
        },
        "outputId": "1fe0537b-2606-4fd5-c1ad-b7aaa90d4777"
      },
      "source": [
        "for i in ['apple','ball','cat']:\n",
        "  print(i)"
      ],
      "execution_count": null,
      "outputs": [
        {
          "output_type": "stream",
          "text": [
            "apple\n",
            "ball\n",
            "cat\n"
          ],
          "name": "stdout"
        }
      ]
    },
    {
      "cell_type": "code",
      "metadata": {
        "id": "raezVLsS9M3A",
        "colab": {
          "base_uri": "https://localhost:8080/",
          "height": 68
        },
        "outputId": "6ed4541f-83c6-45aa-81f2-423a6175d8e7"
      },
      "source": [
        "i = 1\n",
        "while i < 4:\n",
        "  print(i*i)\n",
        "  i+=1"
      ],
      "execution_count": null,
      "outputs": [
        {
          "output_type": "stream",
          "text": [
            "1\n",
            "4\n",
            "9\n"
          ],
          "name": "stdout"
        }
      ]
    },
    {
      "cell_type": "code",
      "metadata": {
        "id": "tIZNJuTO9hiD",
        "colab": {
          "base_uri": "https://localhost:8080/",
          "height": 34
        },
        "outputId": "48a10288-2622-4fbd-9b17-76cc38521d16"
      },
      "source": [
        "'''for i in range(5):\n",
        "    print(i,end = ' ')# 0...4'''\n",
        "i = 0 #1. Intial Value\n",
        "while i < 5: #2. Condition Part\n",
        "  print(i,end=' ')\n",
        "  i+=1 #3. Step Value\n"
      ],
      "execution_count": null,
      "outputs": [
        {
          "output_type": "stream",
          "text": [
            "0 1 2 3 4 "
          ],
          "name": "stdout"
        }
      ]
    },
    {
      "cell_type": "code",
      "metadata": {
        "id": "bWmId4Vr-cMl",
        "colab": {
          "base_uri": "https://localhost:8080/",
          "height": 34
        },
        "outputId": "e12abc14-2515-465d-a8f1-3538c7b1a5b1"
      },
      "source": [
        "'''for i in range(1,5,2):\n",
        "    print(i,end = ' ') '''\n",
        "i = 1                #1. Intial Value\n",
        "while i < 5:         #2. Condition Part\n",
        "  print(i,end = ' ')\n",
        "  i+=2               #3. Step Value"
      ],
      "execution_count": null,
      "outputs": [
        {
          "output_type": "stream",
          "text": [
            "1 3 "
          ],
          "name": "stdout"
        }
      ]
    },
    {
      "cell_type": "code",
      "metadata": {
        "id": "NA9H-af3_iVH",
        "colab": {
          "base_uri": "https://localhost:8080/",
          "height": 34
        },
        "outputId": "abe505f8-2e8b-4099-98f8-0ce1b78d813c"
      },
      "source": [
        "#5 4 3 2 1\n",
        "i = 5\n",
        "while i > 0:\n",
        "  print(i,end  = ' ')\n",
        "  i-=1"
      ],
      "execution_count": null,
      "outputs": [
        {
          "output_type": "stream",
          "text": [
            "5 4 3 2 1 "
          ],
          "name": "stdout"
        }
      ]
    },
    {
      "cell_type": "code",
      "metadata": {
        "id": "fE73DweF_2Vo",
        "colab": {
          "base_uri": "https://localhost:8080/",
          "height": 34
        },
        "outputId": "c87669eb-7f72-44e2-b4a7-cd2eb9f1136c"
      },
      "source": [
        "#5 4 3 2 1\n",
        "for i in range(5,0,-2):\n",
        "  print(i,end = ' ')"
      ],
      "execution_count": null,
      "outputs": [
        {
          "output_type": "stream",
          "text": [
            "5 3 1 "
          ],
          "name": "stdout"
        }
      ]
    },
    {
      "cell_type": "code",
      "metadata": {
        "id": "6Gn5mkXJAkZx",
        "colab": {
          "base_uri": "https://localhost:8080/",
          "height": 51
        },
        "outputId": "e5f0df6d-587e-47e5-91a0-7b4cad17d31c"
      },
      "source": [
        "#break\n",
        "for i in range(1,11): #1...10\n",
        "  if i%3==0: #3%3 == 0 - True\n",
        "    break\n",
        "  else:\n",
        "    print(i)"
      ],
      "execution_count": null,
      "outputs": [
        {
          "output_type": "stream",
          "text": [
            "1\n",
            "2\n"
          ],
          "name": "stdout"
        }
      ]
    },
    {
      "cell_type": "code",
      "metadata": {
        "id": "GaGGd-R6BRiM",
        "colab": {
          "base_uri": "https://localhost:8080/",
          "height": 85
        },
        "outputId": "69ccc618-11c4-4ab5-9221-80a74452b5be"
      },
      "source": [
        "#continue\n",
        "for i in range(1,12,2): #1...10\n",
        "  if i%3==0: #3%3 == 0, 6%3 === 0, 9%3==0 - True\n",
        "    continue\n",
        "  else:\n",
        "    print(i)"
      ],
      "execution_count": null,
      "outputs": [
        {
          "output_type": "stream",
          "text": [
            "1\n",
            "5\n",
            "7\n",
            "11\n"
          ],
          "name": "stdout"
        }
      ]
    },
    {
      "cell_type": "code",
      "metadata": {
        "id": "qLXqkBNECS1u",
        "colab": {
          "base_uri": "https://localhost:8080/",
          "height": 187
        },
        "outputId": "1e64a261-eb7c-4017-a4c4-f29baa59823c"
      },
      "source": [
        "for i in range(10,1,-1):\n",
        "  print('In the loop',i)\n",
        "else:\n",
        "  print('Exiting the loop')"
      ],
      "execution_count": null,
      "outputs": [
        {
          "output_type": "stream",
          "text": [
            "In the loop 10\n",
            "In the loop 9\n",
            "In the loop 8\n",
            "In the loop 7\n",
            "In the loop 6\n",
            "In the loop 5\n",
            "In the loop 4\n",
            "In the loop 3\n",
            "In the loop 2\n",
            "Exiting the loop\n"
          ],
          "name": "stdout"
        }
      ]
    },
    {
      "cell_type": "code",
      "metadata": {
        "id": "MJYqdLwwDjUo",
        "colab": {
          "base_uri": "https://localhost:8080/",
          "height": 102
        },
        "outputId": "7e5c55bf-b247-41bb-a3d8-4d1390ee58eb"
      },
      "source": [
        "#Inner Loops\n",
        "n = 5\n",
        "for i in range(1,n+1): # Outer loop no of rows\n",
        "  for j in range(1,i+1): # Inner loop no of columns range(1,3):1 2  \n",
        "    print(i,end = ' ') # Values in the specified\n",
        "  print() # Blank line after each row\n"
      ],
      "execution_count": null,
      "outputs": [
        {
          "output_type": "stream",
          "text": [
            "1 \n",
            "2 2 \n",
            "3 3 3 \n",
            "4 4 4 4 \n",
            "5 5 5 5 5 \n"
          ],
          "name": "stdout"
        }
      ]
    },
    {
      "cell_type": "code",
      "metadata": {
        "id": "wl8yNmt5rWVf",
        "colab": {
          "base_uri": "https://localhost:8080/",
          "height": 68
        },
        "outputId": "f0ecd932-54c9-47e8-fa18-96dbbfdfc7cf"
      },
      "source": [
        "s = '0123456789'\n",
        "print(s[3],',',s[0:3],'-',s[2:5])\n",
        "print(s[:3],'-',s[3:],',',s[3:100])\n",
        "print(s[20:],s[2:1],s[1:1])"
      ],
      "execution_count": null,
      "outputs": [
        {
          "output_type": "stream",
          "text": [
            "3 , 012 - 234\n",
            "012 - 3456789 , 3456789\n",
            "  \n"
          ],
          "name": "stdout"
        }
      ]
    },
    {
      "cell_type": "code",
      "metadata": {
        "colab": {
          "base_uri": "https://localhost:8080/"
        },
        "id": "AAmB6MLsTw9f",
        "outputId": "dfe73be4-6d47-4fb8-b0b6-970490d21365"
      },
      "source": [
        "a = float(input('Enter a float value: '))\n",
        "b = float(input('Enter another value'))\n",
        "if a > b:\n",
        "  print(a)\n",
        "else:\n",
        "  print(b)"
      ],
      "execution_count": null,
      "outputs": [
        {
          "output_type": "stream",
          "text": [
            "Enter a float value: 10.453\n",
            "Enter another value12.345\n",
            "12.345\n"
          ],
          "name": "stdout"
        }
      ]
    },
    {
      "cell_type": "code",
      "metadata": {
        "colab": {
          "base_uri": "https://localhost:8080/"
        },
        "id": "zClVUI4pVvi-",
        "outputId": "adcd4db3-87b3-4777-9044-c3e972ad1bfe"
      },
      "source": [
        "a = int(input())\n",
        "if a % 2 == 0:\n",
        "  print('Even-It is divisible by 2')\n",
        "else:\n",
        "  print('Odd-It is not divisible by 2')"
      ],
      "execution_count": null,
      "outputs": [
        {
          "output_type": "stream",
          "text": [
            "79\n",
            "Odd\n"
          ],
          "name": "stdout"
        }
      ]
    },
    {
      "cell_type": "code",
      "metadata": {
        "colab": {
          "base_uri": "https://localhost:8080/"
        },
        "id": "2LkvnNGvWbZS",
        "outputId": "13ff6109-1996-4a05-fbb8-53e0bafffe1a"
      },
      "source": [
        "a = int(input())\n",
        "if a % 8 == 0:\n",
        "  print('It is divisible by 8')\n",
        "else:\n",
        "  print('It is not divisible by 8')"
      ],
      "execution_count": null,
      "outputs": [
        {
          "output_type": "stream",
          "text": [
            "1000\n",
            "It is divisible by 8\n"
          ],
          "name": "stdout"
        }
      ]
    },
    {
      "cell_type": "code",
      "metadata": {
        "id": "fdGQX4tKYdgA"
      },
      "source": [
        "a = int(input())\n",
        "if a % 4 == 0:\n",
        "  print('It is a leap year')\n",
        "else:\n",
        "  print('It is not leap year')"
      ],
      "execution_count": null,
      "outputs": []
    },
    {
      "cell_type": "code",
      "metadata": {
        "colab": {
          "base_uri": "https://localhost:8080/"
        },
        "id": "Sphec_83ZJOd",
        "outputId": "ee371d68-7723-4311-f321-eabe20c55f2b"
      },
      "source": [
        "a = int(input())\n",
        "b = int(input())\n",
        "c = int(input())\n",
        "if a > b and a > c:\n",
        "  print('a is biiger: ',a)\n",
        "elif b > c:\n",
        "  print('b is bigger: ',b)\n",
        "else:\n",
        "  print('c is bigger: ',c)"
      ],
      "execution_count": null,
      "outputs": [
        {
          "output_type": "stream",
          "text": [
            "1\n",
            "2\n",
            "3\n",
            "3\n"
          ],
          "name": "stdout"
        }
      ]
    },
    {
      "cell_type": "code",
      "metadata": {
        "colab": {
          "base_uri": "https://localhost:8080/"
        },
        "id": "C9ES-5oea_im",
        "outputId": "1d2fcab0-5a99-47c0-efe4-91b729f8b8bd"
      },
      "source": [
        "for i in range(10):# i 0 to n-1 (0,5,1) (start,end-1,inc/dec)\n",
        "  print(i)"
      ],
      "execution_count": null,
      "outputs": [
        {
          "output_type": "stream",
          "text": [
            "0\n",
            "1\n",
            "2\n",
            "3\n",
            "4\n",
            "5\n",
            "6\n",
            "7\n",
            "8\n",
            "9\n"
          ],
          "name": "stdout"
        }
      ]
    },
    {
      "cell_type": "code",
      "metadata": {
        "colab": {
          "base_uri": "https://localhost:8080/"
        },
        "id": "yZwK8ZTXcBMS",
        "outputId": "5bb01a7e-ebc6-4bf6-8fb5-b6b4f2bd5ef0"
      },
      "source": [
        "for i in range(1,10):# i 0 to n-1 (1,5,1)\n",
        "  print(i)"
      ],
      "execution_count": null,
      "outputs": [
        {
          "output_type": "stream",
          "text": [
            "1\n",
            "2\n",
            "3\n",
            "4\n",
            "5\n",
            "6\n",
            "7\n",
            "8\n",
            "9\n"
          ],
          "name": "stdout"
        }
      ]
    },
    {
      "cell_type": "code",
      "metadata": {
        "colab": {
          "base_uri": "https://localhost:8080/"
        },
        "id": "6-XMSmVzcL8z",
        "outputId": "f4e3473f-b03b-44ea-9646-b5bf72d03686"
      },
      "source": [
        "for i in range(1,15,4):# i 0 to n-1\n",
        "  print(i)"
      ],
      "execution_count": null,
      "outputs": [
        {
          "output_type": "stream",
          "text": [
            "1\n",
            "5\n",
            "9\n",
            "13\n"
          ],
          "name": "stdout"
        }
      ]
    },
    {
      "cell_type": "code",
      "metadata": {
        "id": "Sx6wqP2Fb9Qi"
      },
      "source": [
        "i = 1\n",
        "while i < 15: #i <= 14\n",
        "  print(i)\n",
        "  i+=4"
      ],
      "execution_count": null,
      "outputs": []
    },
    {
      "cell_type": "code",
      "metadata": {
        "colab": {
          "base_uri": "https://localhost:8080/"
        },
        "id": "Wb3p2NTKZDry",
        "outputId": "21d94192-2cb2-4baf-a185-b6c7be2d5944"
      },
      "source": [
        "for i in range(15,0,-4):# i 0 to n-1\n",
        "  print(i)"
      ],
      "execution_count": null,
      "outputs": [
        {
          "output_type": "stream",
          "text": [
            "15\n",
            "11\n",
            "7\n",
            "3\n"
          ],
          "name": "stdout"
        }
      ]
    },
    {
      "cell_type": "code",
      "metadata": {
        "colab": {
          "base_uri": "https://localhost:8080/"
        },
        "id": "TfTZ9dA7bR5n",
        "outputId": "a3d9ec71-d4d9-42d5-9043-34d3e561a662"
      },
      "source": [
        "i = 15\n",
        "while i > 0:\n",
        "  print(i)\n",
        "  i-=4 #i = i-4"
      ],
      "execution_count": null,
      "outputs": [
        {
          "output_type": "stream",
          "text": [
            "15\n",
            "11\n",
            "7\n",
            "3\n"
          ],
          "name": "stdout"
        }
      ]
    },
    {
      "cell_type": "code",
      "metadata": {
        "colab": {
          "base_uri": "https://localhost:8080/"
        },
        "id": "m6UkWl0Nce1_",
        "outputId": "1ec118b4-6ccd-478a-92a7-aa11abde67d5"
      },
      "source": [
        "#n! = 5! = 5 * 4 * 3* 2* 1 = 120\n",
        "n = int(input('Enter n value: '))\n",
        "fact = 1\n",
        "for i in range(n,0,-1):\n",
        "  fact = fact * i\n",
        "print(fact)"
      ],
      "execution_count": null,
      "outputs": [
        {
          "output_type": "stream",
          "text": [
            "Enter n value: 5\n",
            "120\n"
          ],
          "name": "stdout"
        }
      ]
    },
    {
      "cell_type": "code",
      "metadata": {
        "colab": {
          "base_uri": "https://localhost:8080/"
        },
        "id": "Pp0hLt29euBk",
        "outputId": "d71ebd80-af3b-4ad1-ea96-a6a0eb1420c4"
      },
      "source": [
        "n = int(input('Enter n value: '))\n",
        "fact = 1\n",
        "i = n\n",
        "while i > 0:\n",
        "  fact = fact * i\n",
        "  i=i-1\n",
        "print(fact)"
      ],
      "execution_count": null,
      "outputs": [
        {
          "output_type": "stream",
          "text": [
            "Enter n value: 5\n",
            "120\n"
          ],
          "name": "stdout"
        }
      ]
    },
    {
      "cell_type": "code",
      "metadata": {
        "colab": {
          "base_uri": "https://localhost:8080/"
        },
        "id": "Kc0WxpmBf38W",
        "outputId": "c3697c76-8094-4048-9350-0f7e6347960e"
      },
      "source": [
        " #2 * 1 = 2 (2 * 1)\n",
        " #2 * 2 = 4 (2 * 2)\n",
        " #2 * 10 = 20 (2 * 10)\n",
        " m = 2\n",
        " for i in range(1,11):\n",
        "   print(m,'*',i,'=',m*i)"
      ],
      "execution_count": null,
      "outputs": [
        {
          "output_type": "stream",
          "text": [
            "2 * 1 = 2\n",
            "2 * 2 = 4\n",
            "2 * 3 = 6\n",
            "2 * 4 = 8\n",
            "2 * 5 = 10\n",
            "2 * 6 = 12\n",
            "2 * 7 = 14\n",
            "2 * 8 = 16\n",
            "2 * 9 = 18\n",
            "2 * 10 = 20\n"
          ],
          "name": "stdout"
        }
      ]
    },
    {
      "cell_type": "code",
      "metadata": {
        "colab": {
          "base_uri": "https://localhost:8080/"
        },
        "id": "mUO0LbRItqx8",
        "outputId": "b2a375c6-bd5c-401a-d2ab-6b0f8e9d9c11"
      },
      "source": [
        "L = [23, 9, 14, 2, 28, 19, 3, 15, 9, 25, 2, 4, 9]\n",
        "Maximum = max(L)\n",
        "Minimum = min(L)\n",
        "print('Maximum = ',Maximum,' Minimum = ',Minimum,' Difference = ',Maximum-Minimum)"
      ],
      "execution_count": null,
      "outputs": [
        {
          "output_type": "stream",
          "text": [
            "Maximum =  28  Minimum =  2  Difference =  26\n"
          ],
          "name": "stdout"
        }
      ]
    },
    {
      "cell_type": "code",
      "metadata": {
        "colab": {
          "base_uri": "https://localhost:8080/"
        },
        "id": "q7li4dG4urN7",
        "outputId": "191e6b92-a17d-4e57-893b-dbfea973432e"
      },
      "source": [
        "L = [23, 9, 14, 2, 28, 19, 3, 15, 9, 25, 2, 4, 9]\n",
        "M = L[0:len(L)-1:3]\n",
        "print(M)"
      ],
      "execution_count": null,
      "outputs": [
        {
          "output_type": "stream",
          "text": [
            "[23, 2, 3, 25]\n"
          ],
          "name": "stdout"
        }
      ]
    },
    {
      "cell_type": "code",
      "metadata": {
        "colab": {
          "base_uri": "https://localhost:8080/"
        },
        "id": "U4eUrlhFuoC-",
        "outputId": "5adcf983-c237-4a49-959b-a903bd936aa6"
      },
      "source": [
        "L1 = [4,8,7,6,5,2,10]\n",
        "L2 = L1[::-1]\n",
        "for i in range(len(L2)):\n",
        "  L2[i] = L2[i]*2\n",
        "print(L2)"
      ],
      "execution_count": null,
      "outputs": [
        {
          "output_type": "stream",
          "text": [
            "[20, 4, 10, 12, 14, 16, 8]\n"
          ],
          "name": "stdout"
        }
      ]
    }
  ]
}